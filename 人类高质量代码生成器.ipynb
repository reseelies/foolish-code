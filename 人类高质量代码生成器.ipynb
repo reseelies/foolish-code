{
 "cells": [
  {
   "cell_type": "raw",
   "id": "e936ab8b",
   "metadata": {},
   "source": [
    "人类高质量代码网址：\n",
    "https://mp.weixin.qq.com/s/m28zns1yJa0EI8pZvA53-w"
   ]
  },
  {
   "cell_type": "code",
   "execution_count": 3,
   "id": "2bb5b1d9",
   "metadata": {},
   "outputs": [
    {
     "name": "stdout",
     "output_type": "stream",
     "text": [
      "人类高质量代码完成！\n",
      "用时201.66251230239868s\n"
     ]
    }
   ],
   "source": [
    "import time\n",
    "\n",
    "def write_loop(i):\n",
    "    length = len(str(i))\n",
    "    with open(\"人类高质量代码.cpp\", \"at\") as fo:\n",
    "        fo.write('\\tcase {}:\\n'.format(i))\n",
    "        fo.write('\\t\\tcout << \"是{}位数\" << endl;\\n'.format(length))\n",
    "    ls = ['个', '十', '百', '千', '万']\n",
    "    a = i\n",
    "    for j in range(5):\n",
    "        a = a%10\n",
    "        with open(\"人类高质量代码.cpp\", \"at\") as fo:\n",
    "            fo.write('\\t\\tcout << \"{}位数是：{}\" << endl;\\n'.format(ls[j], a))\n",
    "        a = i//10\n",
    "        if a == 0:\n",
    "            break\n",
    "    with open(\"人类高质量代码.cpp\", \"at\") as fo:\n",
    "        fo.write('\\t\\tcout << \"倒过来是：{}\" << endl;\\n'.format(str(i)[::-1]))\n",
    "        fo.write('\\t\\tbreak;\\n')\n",
    "        \n",
    "\n",
    "start = time.time()\n",
    "with open(\"人类高质量代码.cpp\", \"wt\") as fo:\n",
    "    fo.write(\"# include<iostream>\\nusing namespace std;\\n\\n\")\n",
    "    fo.write(\"int main()\\n{\\n\")\n",
    "    fo.write('\\tcout << \"请给出一个不多于5位的正整数：\":\\n')\n",
    "    fo.write('\\tint x;\\n')\n",
    "    fo.write('\\tcin >> x;\\n\\n')\n",
    "    fo.write('\\tswitch(x) {')\n",
    "# 开始正式步骤\n",
    "for i in range(1, 100000):\n",
    "    write_loop(i)\n",
    "# 结个尾\n",
    "with open(\"人类高质量代码.cpp\", \"at\") as fo:\n",
    "    fo.write('\\t}\\n')\n",
    "    fo.write('}')\n",
    "print(\"人类高质量代码完成！\")\n",
    "print(\"用时{}s\".format(time.time() - start))"
   ]
  },
  {
   "cell_type": "code",
   "execution_count": 1,
   "id": "97a5cf69",
   "metadata": {},
   "outputs": [
    {
     "data": {
      "text/plain": [
       "3"
      ]
     },
     "execution_count": 1,
     "metadata": {},
     "output_type": "execute_result"
    }
   ],
   "source": [
    "x = str(132)\n",
    "len(x)"
   ]
  }
 ],
 "metadata": {
  "kernelspec": {
   "display_name": "Python 3",
   "language": "python",
   "name": "python3"
  },
  "language_info": {
   "codemirror_mode": {
    "name": "ipython",
    "version": 3
   },
   "file_extension": ".py",
   "mimetype": "text/x-python",
   "name": "python",
   "nbconvert_exporter": "python",
   "pygments_lexer": "ipython3",
   "version": "3.8.8"
  },
  "toc": {
   "base_numbering": 1,
   "nav_menu": {},
   "number_sections": true,
   "sideBar": true,
   "skip_h1_title": false,
   "title_cell": "Table of Contents",
   "title_sidebar": "Contents",
   "toc_cell": false,
   "toc_position": {},
   "toc_section_display": true,
   "toc_window_display": false
  }
 },
 "nbformat": 4,
 "nbformat_minor": 5
}
